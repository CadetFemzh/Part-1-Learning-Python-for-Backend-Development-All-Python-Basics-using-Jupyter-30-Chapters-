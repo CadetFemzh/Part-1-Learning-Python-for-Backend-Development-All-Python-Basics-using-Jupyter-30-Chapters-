{
 "cells": [
  {
   "cell_type": "code",
   "execution_count": 78,
   "metadata": {},
   "outputs": [],
   "source": [
    "#PART A: Full Understanding of the Basics of Python\n",
    "#PART B: Learning Python Framework (Django) as a Web Developer. NOTE: Learnt Python for Data Analysis Already\n",
    "#PART A\n",
    "#'''ihvsuellt'''\n",
    "#Chapter 1 - Installing Python"
   ]
  },
  {
   "cell_type": "code",
   "execution_count": 2,
   "metadata": {},
   "outputs": [
    {
     "name": "stdout",
     "output_type": "stream",
     "text": [
      "Hello World\n"
     ]
    }
   ],
   "source": [
    "#Chapter 2 - First Code Hello World & Saving with .py on python idle or jupyter\n",
    "print('Hello World')"
   ]
  },
  {
   "cell_type": "code",
   "execution_count": 1,
   "metadata": {},
   "outputs": [
    {
     "name": "stdout",
     "output_type": "stream",
     "text": [
      "[1, 2, 3, 4, 5, 6, 7, 8, 9, 10]\n",
      "It should be known that Ich heibe Femi 27\n"
     ]
    }
   ],
   "source": [
    "#Chapter 3 - Variable, Concatenation & Data Types\n",
    "ilist = list(range(1,11))\n",
    "print(ilist)\n",
    "\n",
    "istr = 'Ich heibe Femi'\n",
    "inum = 27\n",
    "\n",
    "#This is concatenation of strings and numbers as variables with strings or numbers\n",
    "print('It should be known that ' + istr, inum) \n",
    "\n",
    "#Data Types: strings=str(), numbers(int(), float(), & complex =3r, lists=[], range=(1,11), dictionaries{}, \n",
    "#tuples=(), booleans=true or false, binary=bin()"
   ]
  },
  {
   "cell_type": "code",
   "execution_count": 4,
   "metadata": {},
   "outputs": [
    {
     "name": "stdout",
     "output_type": "stream",
     "text": [
      "m\n",
      "manchester united\n",
      "False\n",
      "17\n",
      "<class 'str'>\n",
      "manchester unites\n",
      "Ich bin\n",
      "Du bist\n",
      "It's mine\n"
     ]
    }
   ],
   "source": [
    "#Chapter 4 - Strings in Python & Special Functions\n",
    "x = 'manchester united'\n",
    "print(x[0])\n",
    "print(x.lower())\n",
    "print(x.isupper())\n",
    "print(len(x))\n",
    "print(type(x))\n",
    "print(x.replace('d','s'))\n",
    "\n",
    "print('Ich bin\\nDu bist')\n",
    "print('It\\'s mine')"
   ]
  },
  {
   "cell_type": "code",
   "execution_count": 10,
   "metadata": {},
   "outputs": [
    {
     "name": "stdout",
     "output_type": "stream",
     "text": [
      "6.25\n",
      "4\n",
      "6\n",
      "81\n",
      "[1, 2, 3, 4, 5, 6, 7, 8, 9, 10]\n",
      "5\n",
      "10\n",
      "2500\n",
      "10\n"
     ]
    }
   ],
   "source": [
    "#Chapter 5 - Numbers in Python & Special Function\n",
    "y = 25\n",
    "y2 = 100\n",
    "print(abs(25/4)), print(44%5), print(9-3), print(9**2)\n",
    "\n",
    "print(ilist)\n",
    "from math import *\n",
    "print(int(sqrt(y)))\n",
    "print(max(ilist))\n",
    "print(y2*y)\n",
    "print(len(ilist)) #min(),count(),bin() etc"
   ]
  },
  {
   "cell_type": "code",
   "execution_count": 11,
   "metadata": {},
   "outputs": [
    {
     "name": "stdout",
     "output_type": "stream",
     "text": [
      "What is your name?Femi\n",
      "Welcome Femi\n"
     ]
    }
   ],
   "source": [
    "#Chapter 6 - Getting User's Input\n",
    "iname = input('What is your name?')\n",
    "print('Welcome ' + iname)"
   ]
  },
  {
   "cell_type": "code",
   "execution_count": 30,
   "metadata": {},
   "outputs": [
    {
     "name": "stdout",
     "output_type": "stream",
     "text": [
      "United\n",
      "In the wordUnited\n",
      "what word do you want to replace d\n",
      "what do you want to replace it with? s\n",
      "Unites\n"
     ]
    }
   ],
   "source": [
    "#Chapter 7 - Exercise on building a replacement program for words/letters\n",
    "word = 'United'\n",
    "print(word)\n",
    "print('In the word' + word)\n",
    "\n",
    "v1 = input('what word do you want to replace ')\n",
    "v2 = input('what do you want to replace it with? ')\n",
    "print(word.replace(v1,v2))"
   ]
  },
  {
   "cell_type": "code",
   "execution_count": 14,
   "metadata": {},
   "outputs": [
    {
     "name": "stdout",
     "output_type": "stream",
     "text": [
      "Please input your nameNiyi\n",
      "Dear Mr/Mrs Niyi,  your academic grade is A\n"
     ]
    }
   ],
   "source": [
    "#Bonus - ask for students name, score, print name, and grade 75-100 A, 60-74 B, 50-59 C, 0-49 F\n",
    "input1 = input('Please input your name')\n",
    "input2 = {'Femi':int(50), 'Niyi':int(77), 'Wale':int(33)}\n",
    "\n",
    "for i in input2:\n",
    "    if input1 == 'Niyi':\n",
    "        input2a = input2['Niyi']\n",
    "    elif input1 == 'Wale':\n",
    "        input2a = input2['Wale']\n",
    "    if input2a >=75:\n",
    "        gnum = 'A'\n",
    "    elif input2a >= 60 and input2 <=74:\n",
    "        gnum = 'B'\n",
    "    elif input2a >=50 and input2 <=59:\n",
    "        gnum = 'C'\n",
    "    else:\n",
    "        gnum = 'PASS'\n",
    "\n",
    "print('Dear Mr/Mrs ' + input1 + ',  your academic grade is ' + gnum)"
   ]
  },
  {
   "cell_type": "code",
   "execution_count": 27,
   "metadata": {},
   "outputs": [
    {
     "name": "stdout",
     "output_type": "stream",
     "text": [
      "[1, 2, 3, 4, 5]\n",
      "['a', 'b', 'c', 'd', 'e']\n",
      "1\n",
      "[90, 2, 3, 4, 5]\n"
     ]
    }
   ],
   "source": [
    "#Chapter 8 - Lists in Python & List functions\n",
    "#An example of a list\n",
    "mylist = list(range(1,6))\n",
    "mylist2 = ['a','b','c','d','e']\n",
    "print (mylist)\n",
    "print(mylist2)\n",
    "print(mylist[0])\n",
    "mylist[0] = 90 #instead of print(mylist.replace...) this won't work\n",
    "print(mylist)"
   ]
  },
  {
   "cell_type": "code",
   "execution_count": 58,
   "metadata": {},
   "outputs": [
    {
     "name": "stdout",
     "output_type": "stream",
     "text": [
      "[90, 70, 77]\n",
      "[40, 50, 75]\n",
      "[10, 20, 30]\n",
      "2\n",
      "10\n",
      "[]\n",
      "[40, 50, 75]\n",
      "[90, 70, 77]\n",
      "0\n"
     ]
    }
   ],
   "source": [
    "#Chapter 9 - List methods (i.e. more list functions)\n",
    "#Other functions with Lists extend, append,len, count, clear, pop,index, insert, remove\n",
    "#Examples\n",
    "alist = [10,20]\n",
    "blist = [40,50]\n",
    "clist = [80,90,70,77]\n",
    "clist.remove(80)\n",
    "print(clist)\n",
    "alist.insert(20,30)\n",
    "blist.insert(55,75)\n",
    "print(blist)\n",
    "print(alist)\n",
    "print(alist.index(30))\n",
    "print(alist.pop(0))\n",
    "alist.clear()\n",
    "print(alist)\n",
    "del alist\n",
    "print(blist)\n",
    "print(clist)"
   ]
  },
  {
   "cell_type": "code",
   "execution_count": 70,
   "metadata": {},
   "outputs": [
    {
     "name": "stdout",
     "output_type": "stream",
     "text": [
      "(5, 6, 7, 1, 1)\n",
      "('g', 'a', 'm', 'e')\n"
     ]
    }
   ],
   "source": [
    "#Chapter 10 - Tuples in Python & Special Functions * Can't be changed but can have duplicates\n",
    "mtupl = (5,6,7,1,1)\n",
    "print(mtupl)\n",
    "\n",
    "#OR\n",
    "\n",
    "mt = tuple('game')\n",
    "print(mt)\n",
    "#note: mt2 = tuple(55) #int can't be iterated, int is a no no\n",
    "#special functions are quite similar to lists, asides replace, it can't be changed"
   ]
  },
  {
   "cell_type": "code",
   "execution_count": 76,
   "metadata": {},
   "outputs": [
    {
     "name": "stdout",
     "output_type": "stream",
     "text": [
      "input amount66000\n",
      "Take your money\n",
      "input amount79\n",
      "Broke as Bitch\n"
     ]
    }
   ],
   "source": [
    "#Chapter 11 - Functions (def) in Python (using atm scenario as example) #'''driedwf2ce'''\n",
    "def withdraw():\n",
    "    gui = int(input('input amount'))\n",
    "    if gui >= 1000:\n",
    "        print('Take your money')\n",
    "    else:\n",
    "        print('Broke as Bitch') \n",
    "withdraw()\n",
    "\n",
    "#OR\n",
    "def withdraw(gui):\n",
    "    if gui >= 1000:\n",
    "        print('Take your money')\n",
    "    else:\n",
    "        print('Broke as Bitch') \n",
    "withdraw(gui = int(input('input amount')))\n"
   ]
  },
  {
   "cell_type": "code",
   "execution_count": 90,
   "metadata": {},
   "outputs": [
    {
     "name": "stdout",
     "output_type": "stream",
     "text": [
      "num1?5\n",
      "num2?6\n",
      "11\n"
     ]
    }
   ],
   "source": [
    "#Chapter 12 - Return statement in Python\n",
    "num1 = int(input('num1?')) \n",
    "num2 = int(input('num2?'))\n",
    "def rft(num1,num2):\n",
    "    return(num1+num2) #this is similar to def but now no other function can come after writing the code return\n",
    "print(rft(num1,num2))"
   ]
  },
  {
   "cell_type": "code",
   "execution_count": 93,
   "metadata": {},
   "outputs": [
    {
     "name": "stdout",
     "output_type": "stream",
     "text": [
      "x? 55\n",
      "not withing range\n"
     ]
    }
   ],
   "source": [
    "#Chapter 13 - If statment\n",
    "'''verys straight forward'''\n",
    "x=int(input('x? '))\n",
    "if x<10:\n",
    "    print('within range')\n",
    "else:\n",
    "    print('not withing range')"
   ]
  },
  {
   "cell_type": "code",
   "execution_count": 129,
   "metadata": {},
   "outputs": [
    {
     "name": "stdout",
     "output_type": "stream",
     "text": [
      "n1? 23\n",
      "odd number\n"
     ]
    }
   ],
   "source": [
    "#Chapter 14 - Exercise Tell if a value is even or odd number\n",
    "k1 = int(input('n1? '))\n",
    "\n",
    "if k1%2 == 0:\n",
    "    print('even number')\n",
    "elif k1%3 != 0:\n",
    "    print('odd number')\n",
    "    "
   ]
  },
  {
   "cell_type": "code",
   "execution_count": 109,
   "metadata": {},
   "outputs": [
    {
     "name": "stdout",
     "output_type": "stream",
     "text": [
      "88\n",
      "False\n"
     ]
    }
   ],
   "source": [
    "#Chapter 15 - Dictionaries in Python & functions with dict. No duplicate key but you can have duplicate value also there is option for replacement\n",
    "mydict = {'Cal_age':88, 'name':'Cal', 'Trev_age':88, 'country':'Congo'}\n",
    "print(mydict['Trev_age'])\n",
    "print(mydict['country'] == 'Nigeria')\n",
    "#Other functions value(), clear(),copy(),fromkeys()\tReturns a dictionary with the specified keys and value,get()\tReturns the value of the specified key.\n",
    "#items()\tReturns a list containing a tuple for each key value pair, keys()\tReturns a list containing the dictionary's keys, pop()\tRemoves the element with the specified key\n",
    "#popitem(), setdefault()\tReturns the value of the specified key. If the key does not exist: insert the key, with the specified value, update()\tUpdates the dictionary with the specified key-value pairs."
   ]
  },
  {
   "cell_type": "code",
   "execution_count": 117,
   "metadata": {},
   "outputs": [
    {
     "name": "stdout",
     "output_type": "stream",
     "text": [
      "4\n",
      "7\n",
      "10\n",
      "13\n"
     ]
    }
   ],
   "source": [
    "#Chapter 16 - While loop in Python\n",
    "#While is used for looping thorugh a value or two unlike for used for list/multiple values\n",
    " \n",
    "i= 1 #or what ever is inputed as i, loop through the value entered\n",
    "while i <= 10: #meaning as long as i is less than 10 carry out this function in the next line\n",
    "    i = i + 3\n",
    "    print(i) #basically creating a sequence with a formula\n",
    "        "
   ]
  },
  {
   "cell_type": "code",
   "execution_count": 121,
   "metadata": {},
   "outputs": [
    {
     "name": "stdout",
     "output_type": "stream",
     "text": [
      "ayy\n",
      "['a', 'b', 'c']\n",
      "['a', 'b', 'c']\n",
      "byy\n",
      "['a', 'b', 'c']\n",
      "['a', 'b', 'c']\n",
      "cyy\n",
      "['a', 'b', 'c']\n",
      "['a', 'b', 'c']\n"
     ]
    }
   ],
   "source": [
    "#Chapter 17 - For loop in Python\n",
    "#say\n",
    "p = ['a','b','c']\n",
    "for i in p:\n",
    "    print (i + 'yy')\n",
    "    print(p)\n",
    "    print(p)"
   ]
  },
  {
   "cell_type": "code",
   "execution_count": 126,
   "metadata": {},
   "outputs": [
    {
     "name": "stdout",
     "output_type": "stream",
     "text": [
      "[[1, 2, 3], [4, 5, 6], [7, 8, 9]]\n",
      "5\n"
     ]
    }
   ],
   "source": [
    "#Chapter 18 - 2d lists and nested loops\n",
    "list2d = [\n",
    "    [1,2,3],\n",
    "    [4,5,6],\n",
    "    [7,8,9]\n",
    "]\n",
    "print(list2d)\n",
    "print(list2d[1][1]) #to print 5"
   ]
  },
  {
   "cell_type": "code",
   "execution_count": 127,
   "metadata": {},
   "outputs": [
    {
     "data": {
      "text/plain": [
       "'Comment'"
      ]
     },
     "execution_count": 127,
     "metadata": {},
     "output_type": "execute_result"
    }
   ],
   "source": [
    "#Chapter 19 - Comment\n",
    "'''Comment'''"
   ]
  },
  {
   "cell_type": "code",
   "execution_count": 131,
   "metadata": {},
   "outputs": [
    {
     "name": "stdout",
     "output_type": "stream",
     "text": [
      "n1? 3\n",
      "n2? 5\n",
      "operator(+,-,* or /)-\n",
      "-2\n"
     ]
    }
   ],
   "source": [
    "#Chapter 20 - Exercise build a calculator\n",
    "#get values and do normal calculation\n",
    "n1 = int(input('n1? '))7\n",
    "n2 = int(input('n2? '))\n",
    "op = input('operator(+,-,* or /)')\n",
    "\n",
    "if op == '+':\n",
    "    print(n1+n2)\n",
    "elif op == '-':\n",
    "    print(n1-n2)\n",
    "elif op == '*':\n",
    "    print(n1*n2)\n",
    "elif op == '/':\n",
    "    print(n1/n2)\n",
    "else:\n",
    "    print('operator not installed')"
   ]
  },
  {
   "cell_type": "code",
   "execution_count": 149,
   "metadata": {},
   "outputs": [
    {
     "name": "stdout",
     "output_type": "stream",
     "text": [
      "input strnm,\n",
      "nm,\n"
     ]
    }
   ],
   "source": [
    "#Chapter 21 - try and except in Python'''trrwcipbmi''' not Try not Except\n",
    "te = input('input str')\n",
    "try:\n",
    "    print(te)\n",
    "except:\n",
    "    print('Not an int')"
   ]
  },
  {
   "cell_type": "code",
   "execution_count": 173,
   "metadata": {},
   "outputs": [
    {
     "name": "stdout",
     "output_type": "stream",
     "text": [
      "True\n",
      "SEGMENT\t\tCOUNTRY\t\tPRODUCT\t\tUNIT SOLD\n",
      "Government \tCanada\t\tCarretera\t\t1618.5\n",
      "Government\tGermany\t\tCarretera\t\t1321\n",
      "Midmarket\t\tFrance\t\tCarretera\t\t2178\n",
      "Midmarket\t\tGermany\t\tCarretera\t\t888\n",
      "Midmarket\t\tMexico\t\tCarretera\t\t2470\n",
      "Government\tGermany\t\tCarretera\t\t1513\n",
      "Midmarket\t\tGermany\t\tMontana\t\t921\n",
      "Channel Partners\tCanada\t\tMontana\t\t2518\n",
      "Government\tFrance\t\tMontana\t\t1899\n",
      "\n"
     ]
    }
   ],
   "source": [
    "#Chapter 22 - Reading files in Python Note: r read, w write, a appends, a+ append and read\n",
    "mfile = open('book1.txt','r')\n",
    "print(mfile.readable())\n",
    "print(mfile.read())\n",
    "mfile.close()"
   ]
  },
  {
   "cell_type": "code",
   "execution_count": 178,
   "metadata": {},
   "outputs": [],
   "source": [
    "#Chapter 23 -Functions around Read file\n",
    "#Personal Use: To be continued"
   ]
  },
  {
   "cell_type": "code",
   "execution_count": 200,
   "metadata": {},
   "outputs": [
    {
     "data": {
      "text/plain": [
       "34"
      ]
     },
     "execution_count": 200,
     "metadata": {},
     "output_type": "execute_result"
    }
   ],
   "source": [
    "#Chapter 24 - Writing files\n",
    "msfile = open('book2.txt', 'w')\n",
    "msfile.write('NAMES CODES PODS\\n James 907 Tminus') #runs but takes time"
   ]
  },
  {
   "cell_type": "code",
   "execution_count": 22,
   "metadata": {},
   "outputs": [
    {
     "name": "stdout",
     "output_type": "stream",
     "text": [
      "Ola\n",
      "Ola.James@company.com\n",
      "OlaJames\n",
      "None\n"
     ]
    }
   ],
   "source": [
    "#Chapter 25 - Classes & Objects in Python\n",
    "#Creating a class is like creating something like:\n",
    "#class: datatype | object: str | properties: letters, quote | functions: .lower(), .upper()\n",
    "#example\n",
    "#create a class called employee and mimic string class\n",
    "\n",
    "#Employee\n",
    "class employee:\n",
    "    def __init__(self,first,last,pay):\n",
    "        self.first = first\n",
    "        self.last = last\n",
    "        self.pay = pay\n",
    "        self.email = first + '.' + last + '@company.com'\n",
    "        \n",
    "    def fullname(self):\n",
    "        print(self.first + self.last)\n",
    "\n",
    "emp = employee('Ola','James',5000)\n",
    "emp2 = employee('Ilya','Fame',8999)\n",
    "print(emp.first)\n",
    "print(emp.email)\n",
    "\n",
    "print(emp.fullname())\n",
    "del emp2\n",
    "\n",
    "class empty:\n",
    "    pass #for storing a class and move on in my codes\n",
    "\n",
    "#Classes are more useful when you want an improved dictionary, in cases where a variable is carrying mulitple info \n",
    "#e.g. Hyce: 27yo, tall, dark, african. Barry: 45yo, short, white, white."
   ]
  },
  {
   "cell_type": "code",
   "execution_count": 32,
   "metadata": {},
   "outputs": [
    {
     "ename": "SyntaxError",
     "evalue": "invalid syntax (Temp/ipykernel_16132/3358381995.py, line 2)",
     "output_type": "error",
     "traceback": [
      "\u001b[1;36m  File \u001b[1;32m\"C:\\Users\\Kiosk\\AppData\\Local\\Temp/ipykernel_16132/3358381995.py\"\u001b[1;36m, line \u001b[1;32m2\u001b[0m\n\u001b[1;33m    from C:\\Users\\Kiosk\\Desktop\\Olorunfemi Excel.Sql.&.PowerBi\\Python\\JupyterCodes\\codex.ipynb import me\u001b[0m\n\u001b[1;37m          ^\u001b[0m\n\u001b[1;31mSyntaxError\u001b[0m\u001b[1;31m:\u001b[0m invalid syntax\n"
     ]
    }
   ],
   "source": [
    "#Chapter 26 - Inheritance in Python \n",
    "from C:\\Users\\Kiosk\\Desktop\\Olorunfemi Excel.Sql.&.PowerBi\\Python\\JupyterCodes\\codex.ipynb import me\n",
    "\n",
    "class you(me):\n",
    "    pass\n",
    "\n",
    "x = 'fame'\n",
    "print(x) #code not working, dunno why yet"
   ]
  },
  {
   "cell_type": "code",
   "execution_count": 33,
   "metadata": {},
   "outputs": [],
   "source": [
    "#Chapter 27 - Python Interpreter aka The Python Shell\n",
    "#a small environment to test a code with instant enter button\n",
    "\n",
    "#Open python interpreter with (idle) for testing code"
   ]
  },
  {
   "cell_type": "code",
   "execution_count": 37,
   "metadata": {},
   "outputs": [
    {
     "name": "stdout",
     "output_type": "stream",
     "text": [
      "Create your account\n",
      "Input Username k\n",
      "Input Password k\n",
      "User'k' created successfully\n",
      "Login now\n",
      "Input Usernamek\n",
      "Input Passwordk\n",
      "User Logged in successfully\n"
     ]
    }
   ],
   "source": [
    "#Chapter 28 - Building A Simple Login and SignUp system with Python\n",
    "print('Create your account')\n",
    "i1 = input('Input Username ')\n",
    "i2 = input('Input Password ')\n",
    "print('User\\'' + i1 + '\\' created successfully')\n",
    "\n",
    "print ('Login now')\n",
    "l1 = input('Input Username')\n",
    "l2 = input('Input Password')\n",
    "\n",
    "if l1 != i1 or l2 != i2:\n",
    "    print('Invalid Credentials')\n",
    "else:\n",
    "    print('User Logged in successfully')\n"
   ]
  },
  {
   "cell_type": "code",
   "execution_count": 203,
   "metadata": {},
   "outputs": [],
   "source": [
    "#Chapter 29 - Modules in Python\n",
    "#They are quite similar to inheritance \n",
    "#It is like taking a copy of what someone else has done in a module or library and making use of it with:\n",
    "#import modulex\n",
    "#or \n",
    "#import modulex as a new module for me\n",
    "\n",
    "#They can be gotten online or on your laptop\n",
    "#e.g. get a module of someone who has worked on a calculator project and import it"
   ]
  },
  {
   "cell_type": "code",
   "execution_count": null,
   "metadata": {},
   "outputs": [],
   "source": [
    "#Chapter 30 - Introduction to PIP\n",
    "#implementing PIP to install or import module on my computer\n",
    "#used to install external module from the web to your local pc\n",
    "#Example, we look for a module or library that has a function for what we need onine then install it\n",
    "\n",
    "#pip install django-deep-serializer\n",
    "\n",
    "#copy the module or library file name you want and run it on cmd prompt"
   ]
  }
 ],
 "metadata": {
  "interpreter": {
   "hash": "c40709486eb5f7128ce406e5f13c59c68d287d0fb0b1dc5827bd217e74d6a6ad"
  },
  "kernelspec": {
   "display_name": "Python 3 (ipykernel)",
   "language": "python",
   "name": "python3"
  },
  "language_info": {
   "codemirror_mode": {
    "name": "ipython",
    "version": 3
   },
   "file_extension": ".py",
   "mimetype": "text/x-python",
   "name": "python",
   "nbconvert_exporter": "python",
   "pygments_lexer": "ipython3",
   "version": "3.9.7"
  }
 },
 "nbformat": 4,
 "nbformat_minor": 2
}
